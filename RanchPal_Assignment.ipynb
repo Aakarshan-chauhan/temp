{
  "nbformat": 4,
  "nbformat_minor": 0,
  "metadata": {
    "colab": {
      "name": "RanchPal_Assignment",
      "provenance": []
    },
    "kernelspec": {
      "name": "python3",
      "display_name": "Python 3"
    },
    "language_info": {
      "name": "python"
    }
  },
  "cells": [
    {
      "cell_type": "code",
      "metadata": {
        "id": "9-cDepDbETyJ"
      },
      "source": [
        "import pandas as pd\n",
        "import numpy as np\n",
        "import seaborn as sns\n"
      ],
      "execution_count": 1,
      "outputs": []
    },
    {
      "cell_type": "code",
      "metadata": {
        "id": "sybZ_Dr-E0Yc"
      },
      "source": [
        "datas=[]\n",
        "for i in range(9):\n",
        "    datas.append(pd.read_csv(f\"/content/drive/MyDrive/Copy of {i+1}_label.csv\"))"
      ],
      "execution_count": 2,
      "outputs": []
    },
    {
      "cell_type": "code",
      "metadata": {
        "id": "u2KTsjXKFB-Z"
      },
      "source": [
        "df = datas[0]\n",
        "for i in datas[1:]:\n",
        "    df = df.append(i)"
      ],
      "execution_count": 3,
      "outputs": []
    },
    {
      "cell_type": "markdown",
      "metadata": {
        "id": "rv_dG00mOmR8"
      },
      "source": [
        "Check if any non numerical values exist"
      ]
    },
    {
      "cell_type": "code",
      "metadata": {
        "colab": {
          "base_uri": "https://localhost:8080/"
        },
        "id": "P4MI8PDTJr3G",
        "outputId": "36609ea9-a83b-4808-8e20-7aedce77c028"
      },
      "source": [
        "df.info()"
      ],
      "execution_count": 4,
      "outputs": [
        {
          "output_type": "stream",
          "name": "stdout",
          "text": [
            "<class 'pandas.core.frame.DataFrame'>\n",
            "Int64Index: 12509332 entries, 0 to 219735\n",
            "Data columns (total 11 columns):\n",
            " #   Column  Dtype  \n",
            "---  ------  -----  \n",
            " 0   time    int64  \n",
            " 1   acc_x   float64\n",
            " 2   acc_y   float64\n",
            " 3   acc_z   float64\n",
            " 4   gyr_x   float64\n",
            " 5   gyr_y   float64\n",
            " 6   gyr_z   float64\n",
            " 7   mag_x   float64\n",
            " 8   mag_y   float64\n",
            " 9   mag_z   float64\n",
            " 10  label   int64  \n",
            "dtypes: float64(9), int64(2)\n",
            "memory usage: 1.1 GB\n"
          ]
        }
      ]
    },
    {
      "cell_type": "markdown",
      "metadata": {
        "id": "mAqCn3h6OiZY"
      },
      "source": [
        "Check if any values are null\n"
      ]
    },
    {
      "cell_type": "code",
      "metadata": {
        "colab": {
          "base_uri": "https://localhost:8080/"
        },
        "id": "Q0w-JGsWLhQP",
        "outputId": "39be36f1-5f03-4388-a6d5-a4d56a0c41b0"
      },
      "source": [
        "df.isnull().sum()"
      ],
      "execution_count": 5,
      "outputs": [
        {
          "output_type": "execute_result",
          "data": {
            "text/plain": [
              "time     0\n",
              "acc_x    0\n",
              "acc_y    0\n",
              "acc_z    0\n",
              "gyr_x    0\n",
              "gyr_y    0\n",
              "gyr_z    0\n",
              "mag_x    0\n",
              "mag_y    0\n",
              "mag_z    0\n",
              "label    0\n",
              "dtype: int64"
            ]
          },
          "metadata": {},
          "execution_count": 5
        }
      ]
    },
    {
      "cell_type": "markdown",
      "metadata": {
        "id": "mlW0eHz9OsLR"
      },
      "source": [
        "Check for dataset imbalance"
      ]
    },
    {
      "cell_type": "code",
      "metadata": {
        "colab": {
          "base_uri": "https://localhost:8080/",
          "height": 307
        },
        "id": "yerTt7vUGLIC",
        "outputId": "9fcce95d-cfeb-41f1-dc96-8cc3d99c1f55"
      },
      "source": [
        "sns.countplot(x=\"label\", data = df)"
      ],
      "execution_count": 6,
      "outputs": [
        {
          "output_type": "execute_result",
          "data": {
            "text/plain": [
              "<matplotlib.axes._subplots.AxesSubplot at 0x7f6dd22ca450>"
            ]
          },
          "metadata": {},
          "execution_count": 6
        },
        {
          "output_type": "display_data",
          "data": {
            "image/png": "[encoded data removed]",
            "text/plain": [
              "<Figure size 432x288 with 1 Axes>"
            ]
          },
          "metadata": {
            "needs_background": "light"
          }
        }
      ]
    },
    {
      "cell_type": "markdown",
      "metadata": {
        "id": "_srpsZbxOutX"
      },
      "source": [
        "Test the correlation for the imbalanced dataset"
      ]
    },
    {
      "cell_type": "code",
      "metadata": {
        "colab": {
          "base_uri": "https://localhost:8080/",
          "height": 263
        },
        "id": "5dE-QRqYGlL6",
        "outputId": "ad188907-f4f8-4b45-8a75-6d3716ee6182"
      },
      "source": [
        "corr = df.corr()\n",
        "corr.style.background_gradient(cmap='coolwarm').set_precision(2)"
      ],
      "execution_count": 7,
      "outputs": [
        {
          "output_type": "execute_result",
          "data": {
            "text/html": [
              "<style  type=\"text/css\" >\n",
              "#T_fb29f588_0aff_11ec_b943_0242ac1c0002row0_col0,#T_fb29f588_0aff_11ec_b943_0242ac1c0002row1_col1,#T_fb29f588_0aff_11ec_b943_0242ac1c0002row2_col2,#T_fb29f588_0aff_11ec_b943_0242ac1c0002row3_col3,#T_fb29f588_0aff_11ec_b943_0242ac1c0002row4_col4,#T_fb29f588_0aff_11ec_b943_0242ac1c0002row5_col5,#T_fb29f588_0aff_11ec_b943_0242ac1c0002row6_col6,#T_fb29f588_0aff_11ec_b943_0242ac1c0002row7_col7,#T_fb29f588_0aff_11ec_b943_0242ac1c0002row8_col8,#T_fb29f588_0aff_11ec_b943_0242ac1c0002row9_col9,#T_fb29f588_0aff_11ec_b943_0242ac1c0002row10_col10{\n",
              "            background-color:  #b40426;\n",
              "            color:  #f1f1f1;\n",
              "        }#T_fb29f588_0aff_11ec_b943_0242ac1c0002row0_col1{\n",
              "            background-color:  #82a6fb;\n",
              "            color:  #000000;\n",
              "        }#T_fb29f588_0aff_11ec_b943_0242ac1c0002row0_col2,#T_fb29f588_0aff_11ec_b943_0242ac1c0002row10_col7{\n",
              "            background-color:  #80a3fa;\n",
              "            color:  #000000;\n",
              "        }#T_fb29f588_0aff_11ec_b943_0242ac1c0002row0_col3,#T_fb29f588_0aff_11ec_b943_0242ac1c0002row10_col9{\n",
              "            background-color:  #9fbfff;\n",
              "            color:  #000000;\n",
              "        }#T_fb29f588_0aff_11ec_b943_0242ac1c0002row0_col4,#T_fb29f588_0aff_11ec_b943_0242ac1c0002row0_col6,#T_fb29f588_0aff_11ec_b943_0242ac1c0002row1_col6,#T_fb29f588_0aff_11ec_b943_0242ac1c0002row5_col4,#T_fb29f588_0aff_11ec_b943_0242ac1c0002row10_col4{\n",
              "            background-color:  #5673e0;\n",
              "            color:  #000000;\n",
              "        }#T_fb29f588_0aff_11ec_b943_0242ac1c0002row0_col5,#T_fb29f588_0aff_11ec_b943_0242ac1c0002row4_col5,#T_fb29f588_0aff_11ec_b943_0242ac1c0002row10_col5{\n",
              "            background-color:  #3e51c5;\n",
              "            color:  #f1f1f1;\n",
              "        }#T_fb29f588_0aff_11ec_b943_0242ac1c0002row0_col7{\n",
              "            background-color:  #97b8ff;\n",
              "            color:  #000000;\n",
              "        }#T_fb29f588_0aff_11ec_b943_0242ac1c0002row0_col8,#T_fb29f588_0aff_11ec_b943_0242ac1c0002row1_col10,#T_fb29f588_0aff_11ec_b943_0242ac1c0002row2_col7,#T_fb29f588_0aff_11ec_b943_0242ac1c0002row4_col8{\n",
              "            background-color:  #88abfd;\n",
              "            color:  #000000;\n",
              "        }#T_fb29f588_0aff_11ec_b943_0242ac1c0002row0_col9,#T_fb29f588_0aff_11ec_b943_0242ac1c0002row5_col8{\n",
              "            background-color:  #93b5fe;\n",
              "            color:  #000000;\n",
              "        }#T_fb29f588_0aff_11ec_b943_0242ac1c0002row0_col10,#T_fb29f588_0aff_11ec_b943_0242ac1c0002row9_col10{\n",
              "            background-color:  #6282ea;\n",
              "            color:  #000000;\n",
              "        }#T_fb29f588_0aff_11ec_b943_0242ac1c0002row1_col0,#T_fb29f588_0aff_11ec_b943_0242ac1c0002row1_col7,#T_fb29f588_0aff_11ec_b943_0242ac1c0002row3_col2,#T_fb29f588_0aff_11ec_b943_0242ac1c0002row3_col5,#T_fb29f588_0aff_11ec_b943_0242ac1c0002row3_col9,#T_fb29f588_0aff_11ec_b943_0242ac1c0002row4_col6,#T_fb29f588_0aff_11ec_b943_0242ac1c0002row6_col4,#T_fb29f588_0aff_11ec_b943_0242ac1c0002row7_col1,#T_fb29f588_0aff_11ec_b943_0242ac1c0002row7_col5,#T_fb29f588_0aff_11ec_b943_0242ac1c0002row7_col8,#T_fb29f588_0aff_11ec_b943_0242ac1c0002row7_col10,#T_fb29f588_0aff_11ec_b943_0242ac1c0002row9_col3{\n",
              "            background-color:  #3b4cc0;\n",
              "            color:  #f1f1f1;\n",
              "        }#T_fb29f588_0aff_11ec_b943_0242ac1c0002row1_col2{\n",
              "            background-color:  #a1c0ff;\n",
              "            color:  #000000;\n",
              "        }#T_fb29f588_0aff_11ec_b943_0242ac1c0002row1_col3{\n",
              "            background-color:  #86a9fc;\n",
              "            color:  #000000;\n",
              "        }#T_fb29f588_0aff_11ec_b943_0242ac1c0002row1_col4,#T_fb29f588_0aff_11ec_b943_0242ac1c0002row2_col0,#T_fb29f588_0aff_11ec_b943_0242ac1c0002row4_col0,#T_fb29f588_0aff_11ec_b943_0242ac1c0002row5_col0,#T_fb29f588_0aff_11ec_b943_0242ac1c0002row6_col0,#T_fb29f588_0aff_11ec_b943_0242ac1c0002row7_col4,#T_fb29f588_0aff_11ec_b943_0242ac1c0002row8_col6{\n",
              "            background-color:  #5572df;\n",
              "            color:  #000000;\n",
              "        }#T_fb29f588_0aff_11ec_b943_0242ac1c0002row1_col5{\n",
              "            background-color:  #3f53c6;\n",
              "            color:  #f1f1f1;\n",
              "        }#T_fb29f588_0aff_11ec_b943_0242ac1c0002row1_col8{\n",
              "            background-color:  #aac7fd;\n",
              "            color:  #000000;\n",
              "        }#T_fb29f588_0aff_11ec_b943_0242ac1c0002row1_col9,#T_fb29f588_0aff_11ec_b943_0242ac1c0002row3_col7{\n",
              "            background-color:  #bad0f8;\n",
              "            color:  #000000;\n",
              "        }#T_fb29f588_0aff_11ec_b943_0242ac1c0002row2_col1{\n",
              "            background-color:  #b9d0f9;\n",
              "            color:  #000000;\n",
              "        }#T_fb29f588_0aff_11ec_b943_0242ac1c0002row2_col3{\n",
              "            background-color:  #5470de;\n",
              "            color:  #000000;\n",
              "        }#T_fb29f588_0aff_11ec_b943_0242ac1c0002row2_col4{\n",
              "            background-color:  #4c66d6;\n",
              "            color:  #000000;\n",
              "        }#T_fb29f588_0aff_11ec_b943_0242ac1c0002row2_col5{\n",
              "            background-color:  #4358cb;\n",
              "            color:  #f1f1f1;\n",
              "        }#T_fb29f588_0aff_11ec_b943_0242ac1c0002row2_col6,#T_fb29f588_0aff_11ec_b943_0242ac1c0002row3_col8,#T_fb29f588_0aff_11ec_b943_0242ac1c0002row9_col6{\n",
              "            background-color:  #5d7ce6;\n",
              "            color:  #000000;\n",
              "        }#T_fb29f588_0aff_11ec_b943_0242ac1c0002row2_col8{\n",
              "            background-color:  #dbdcde;\n",
              "            color:  #000000;\n",
              "        }#T_fb29f588_0aff_11ec_b943_0242ac1c0002row2_col9{\n",
              "            background-color:  #d0473d;\n",
              "            color:  #f1f1f1;\n",
              "        }#T_fb29f588_0aff_11ec_b943_0242ac1c0002row2_col10,#T_fb29f588_0aff_11ec_b943_0242ac1c0002row3_col6{\n",
              "            background-color:  #536edd;\n",
              "            color:  #000000;\n",
              "        }#T_fb29f588_0aff_11ec_b943_0242ac1c0002row3_col0,#T_fb29f588_0aff_11ec_b943_0242ac1c0002row3_col4,#T_fb29f588_0aff_11ec_b943_0242ac1c0002row10_col0{\n",
              "            background-color:  #5e7de7;\n",
              "            color:  #000000;\n",
              "        }#T_fb29f588_0aff_11ec_b943_0242ac1c0002row3_col1{\n",
              "            background-color:  #8badfd;\n",
              "            color:  #000000;\n",
              "        }#T_fb29f588_0aff_11ec_b943_0242ac1c0002row3_col10{\n",
              "            background-color:  #3d50c3;\n",
              "            color:  #f1f1f1;\n",
              "        }#T_fb29f588_0aff_11ec_b943_0242ac1c0002row4_col1,#T_fb29f588_0aff_11ec_b943_0242ac1c0002row4_col7,#T_fb29f588_0aff_11ec_b943_0242ac1c0002row5_col9{\n",
              "            background-color:  #9abbff;\n",
              "            color:  #000000;\n",
              "        }#T_fb29f588_0aff_11ec_b943_0242ac1c0002row4_col2,#T_fb29f588_0aff_11ec_b943_0242ac1c0002row8_col10{\n",
              "            background-color:  #7699f6;\n",
              "            color:  #000000;\n",
              "        }#T_fb29f588_0aff_11ec_b943_0242ac1c0002row4_col3,#T_fb29f588_0aff_11ec_b943_0242ac1c0002row5_col1,#T_fb29f588_0aff_11ec_b943_0242ac1c0002row6_col9{\n",
              "            background-color:  #9dbdff;\n",
              "            color:  #000000;\n",
              "        }#T_fb29f588_0aff_11ec_b943_0242ac1c0002row4_col9{\n",
              "            background-color:  #8fb1fe;\n",
              "            color:  #000000;\n",
              "        }#T_fb29f588_0aff_11ec_b943_0242ac1c0002row4_col10,#T_fb29f588_0aff_11ec_b943_0242ac1c0002row5_col10,#T_fb29f588_0aff_11ec_b943_0242ac1c0002row6_col10{\n",
              "            background-color:  #5977e3;\n",
              "            color:  #000000;\n",
              "        }#T_fb29f588_0aff_11ec_b943_0242ac1c0002row5_col2{\n",
              "            background-color:  #84a7fc;\n",
              "            color:  #000000;\n",
              "        }#T_fb29f588_0aff_11ec_b943_0242ac1c0002row5_col3,#T_fb29f588_0aff_11ec_b943_0242ac1c0002row6_col3{\n",
              "            background-color:  #94b6ff;\n",
              "            color:  #000000;\n",
              "        }#T_fb29f588_0aff_11ec_b943_0242ac1c0002row5_col6{\n",
              "            background-color:  #6485ec;\n",
              "            color:  #000000;\n",
              "        }#T_fb29f588_0aff_11ec_b943_0242ac1c0002row5_col7{\n",
              "            background-color:  #98b9ff;\n",
              "            color:  #000000;\n",
              "        }#T_fb29f588_0aff_11ec_b943_0242ac1c0002row6_col1,#T_fb29f588_0aff_11ec_b943_0242ac1c0002row6_col7{\n",
              "            background-color:  #9bbcff;\n",
              "            color:  #000000;\n",
              "        }#T_fb29f588_0aff_11ec_b943_0242ac1c0002row6_col2{\n",
              "            background-color:  #85a8fc;\n",
              "            color:  #000000;\n",
              "        }#T_fb29f588_0aff_11ec_b943_0242ac1c0002row6_col5{\n",
              "            background-color:  #4b64d5;\n",
              "            color:  #f1f1f1;\n",
              "        }#T_fb29f588_0aff_11ec_b943_0242ac1c0002row6_col8{\n",
              "            background-color:  #8caffe;\n",
              "            color:  #000000;\n",
              "        }#T_fb29f588_0aff_11ec_b943_0242ac1c0002row7_col0,#T_fb29f588_0aff_11ec_b943_0242ac1c0002row8_col4,#T_fb29f588_0aff_11ec_b943_0242ac1c0002row9_col0{\n",
              "            background-color:  #506bda;\n",
              "            color:  #000000;\n",
              "        }#T_fb29f588_0aff_11ec_b943_0242ac1c0002row7_col2{\n",
              "            background-color:  #6b8df0;\n",
              "            color:  #000000;\n",
              "        }#T_fb29f588_0aff_11ec_b943_0242ac1c0002row7_col3,#T_fb29f588_0aff_11ec_b943_0242ac1c0002row8_col1{\n",
              "            background-color:  #b6cefa;\n",
              "            color:  #000000;\n",
              "        }#T_fb29f588_0aff_11ec_b943_0242ac1c0002row7_col6,#T_fb29f588_0aff_11ec_b943_0242ac1c0002row10_col6{\n",
              "            background-color:  #5875e1;\n",
              "            color:  #000000;\n",
              "        }#T_fb29f588_0aff_11ec_b943_0242ac1c0002row7_col9{\n",
              "            background-color:  #6f92f3;\n",
              "            color:  #000000;\n",
              "        }#T_fb29f588_0aff_11ec_b943_0242ac1c0002row8_col0{\n",
              "            background-color:  #4f69d9;\n",
              "            color:  #000000;\n",
              "        }#T_fb29f588_0aff_11ec_b943_0242ac1c0002row8_col2{\n",
              "            background-color:  #d4dbe6;\n",
              "            color:  #000000;\n",
              "        }#T_fb29f588_0aff_11ec_b943_0242ac1c0002row8_col3{\n",
              "            background-color:  #6788ee;\n",
              "            color:  #000000;\n",
              "        }#T_fb29f588_0aff_11ec_b943_0242ac1c0002row8_col5{\n",
              "            background-color:  #445acc;\n",
              "            color:  #f1f1f1;\n",
              "        }#T_fb29f588_0aff_11ec_b943_0242ac1c0002row8_col7{\n",
              "            background-color:  #4a63d3;\n",
              "            color:  #f1f1f1;\n",
              "        }#T_fb29f588_0aff_11ec_b943_0242ac1c0002row8_col9{\n",
              "            background-color:  #ead5c9;\n",
              "            color:  #000000;\n",
              "        }#T_fb29f588_0aff_11ec_b943_0242ac1c0002row9_col1{\n",
              "            background-color:  #bcd2f7;\n",
              "            color:  #000000;\n",
              "        }#T_fb29f588_0aff_11ec_b943_0242ac1c0002row9_col2{\n",
              "            background-color:  #d24b40;\n",
              "            color:  #f1f1f1;\n",
              "        }#T_fb29f588_0aff_11ec_b943_0242ac1c0002row9_col4{\n",
              "            background-color:  #4e68d8;\n",
              "            color:  #000000;\n",
              "        }#T_fb29f588_0aff_11ec_b943_0242ac1c0002row9_col5{\n",
              "            background-color:  #4257c9;\n",
              "            color:  #f1f1f1;\n",
              "        }#T_fb29f588_0aff_11ec_b943_0242ac1c0002row9_col7{\n",
              "            background-color:  #7396f5;\n",
              "            color:  #000000;\n",
              "        }#T_fb29f588_0aff_11ec_b943_0242ac1c0002row9_col8{\n",
              "            background-color:  #e5d8d1;\n",
              "            color:  #000000;\n",
              "        }#T_fb29f588_0aff_11ec_b943_0242ac1c0002row10_col1{\n",
              "            background-color:  #bfd3f6;\n",
              "            color:  #000000;\n",
              "        }#T_fb29f588_0aff_11ec_b943_0242ac1c0002row10_col2{\n",
              "            background-color:  #7a9df8;\n",
              "            color:  #000000;\n",
              "        }#T_fb29f588_0aff_11ec_b943_0242ac1c0002row10_col3{\n",
              "            background-color:  #7ea1fa;\n",
              "            color:  #000000;\n",
              "        }#T_fb29f588_0aff_11ec_b943_0242ac1c0002row10_col8{\n",
              "            background-color:  #a6c4fe;\n",
              "            color:  #000000;\n",
              "        }</style><table id=\"T_fb29f588_0aff_11ec_b943_0242ac1c0002\" ><thead>    <tr>        <th class=\"blank level0\" ></th>        <th class=\"col_heading level0 col0\" >time</th>        <th class=\"col_heading level0 col1\" >acc_x</th>        <th class=\"col_heading level0 col2\" >acc_y</th>        <th class=\"col_heading level0 col3\" >acc_z</th>        <th class=\"col_heading level0 col4\" >gyr_x</th>        <th class=\"col_heading level0 col5\" >gyr_y</th>        <th class=\"col_heading level0 col6\" >gyr_z</th>        <th class=\"col_heading level0 col7\" >mag_x</th>        <th class=\"col_heading level0 col8\" >mag_y</th>        <th class=\"col_heading level0 col9\" >mag_z</th>        <th class=\"col_heading level0 col10\" >label</th>    </tr></thead><tbody>\n",
              "                <tr>\n",
              "                        <th id=\"T_fb29f588_0aff_11ec_b943_0242ac1c0002level0_row0\" class=\"row_heading level0 row0\" >time</th>\n",
              "                        <td id=\"T_fb29f588_0aff_11ec_b943_0242ac1c0002row0_col0\" class=\"data row0 col0\" >1.00</td>\n",
              "                        <td id=\"T_fb29f588_0aff_11ec_b943_0242ac1c0002row0_col1\" class=\"data row0 col1\" >-0.10</td>\n",
              "                        <td id=\"T_fb29f588_0aff_11ec_b943_0242ac1c0002row0_col2\" class=\"data row0 col2\" >0.00</td>\n",
              "                        <td id=\"T_fb29f588_0aff_11ec_b943_0242ac1c0002row0_col3\" class=\"data row0 col3\" >0.03</td>\n",
              "                        <td id=\"T_fb29f588_0aff_11ec_b943_0242ac1c0002row0_col4\" class=\"data row0 col4\" >0.00</td>\n",
              "                        <td id=\"T_fb29f588_0aff_11ec_b943_0242ac1c0002row0_col5\" class=\"data row0 col5\" >0.00</td>\n",
              "                        <td id=\"T_fb29f588_0aff_11ec_b943_0242ac1c0002row0_col6\" class=\"data row0 col6\" >-0.00</td>\n",
              "                        <td id=\"T_fb29f588_0aff_11ec_b943_0242ac1c0002row0_col7\" class=\"data row0 col7\" >-0.02</td>\n",
              "                        <td id=\"T_fb29f588_0aff_11ec_b943_0242ac1c0002row0_col8\" class=\"data row0 col8\" >-0.02</td>\n",
              "                        <td id=\"T_fb29f588_0aff_11ec_b943_0242ac1c0002row0_col9\" class=\"data row0 col9\" >-0.02</td>\n",
              "                        <td id=\"T_fb29f588_0aff_11ec_b943_0242ac1c0002row0_col10\" class=\"data row0 col10\" >0.03</td>\n",
              "            </tr>\n",
              "            <tr>\n",
              "                        <th id=\"T_fb29f588_0aff_11ec_b943_0242ac1c0002level0_row1\" class=\"row_heading level0 row1\" >acc_x</th>\n",
              "                        <td id=\"T_fb29f588_0aff_11ec_b943_0242ac1c0002row1_col0\" class=\"data row1 col0\" >-0.10</td>\n",
              "                        <td id=\"T_fb29f588_0aff_11ec_b943_0242ac1c0002row1_col1\" class=\"data row1 col1\" >1.00</td>\n",
              "                        <td id=\"T_fb29f588_0aff_11ec_b943_0242ac1c0002row1_col2\" class=\"data row1 col2\" >0.12</td>\n",
              "                        <td id=\"T_fb29f588_0aff_11ec_b943_0242ac1c0002row1_col3\" class=\"data row1 col3\" >-0.07</td>\n",
              "                        <td id=\"T_fb29f588_0aff_11ec_b943_0242ac1c0002row1_col4\" class=\"data row1 col4\" >-0.01</td>\n",
              "                        <td id=\"T_fb29f588_0aff_11ec_b943_0242ac1c0002row1_col5\" class=\"data row1 col5\" >0.00</td>\n",
              "                        <td id=\"T_fb29f588_0aff_11ec_b943_0242ac1c0002row1_col6\" class=\"data row1 col6\" >-0.00</td>\n",
              "                        <td id=\"T_fb29f588_0aff_11ec_b943_0242ac1c0002row1_col7\" class=\"data row1 col7\" >-0.41</td>\n",
              "                        <td id=\"T_fb29f588_0aff_11ec_b943_0242ac1c0002row1_col8\" class=\"data row1 col8\" >0.11</td>\n",
              "                        <td id=\"T_fb29f588_0aff_11ec_b943_0242ac1c0002row1_col9\" class=\"data row1 col9\" >0.14</td>\n",
              "                        <td id=\"T_fb29f588_0aff_11ec_b943_0242ac1c0002row1_col10\" class=\"data row1 col10\" >0.15</td>\n",
              "            </tr>\n",
              "            <tr>\n",
              "                        <th id=\"T_fb29f588_0aff_11ec_b943_0242ac1c0002level0_row2\" class=\"row_heading level0 row2\" >acc_y</th>\n",
              "                        <td id=\"T_fb29f588_0aff_11ec_b943_0242ac1c0002row2_col0\" class=\"data row2 col0\" >0.00</td>\n",
              "                        <td id=\"T_fb29f588_0aff_11ec_b943_0242ac1c0002row2_col1\" class=\"data row2 col1\" >0.12</td>\n",
              "                        <td id=\"T_fb29f588_0aff_11ec_b943_0242ac1c0002row2_col2\" class=\"data row2 col2\" >1.00</td>\n",
              "                        <td id=\"T_fb29f588_0aff_11ec_b943_0242ac1c0002row2_col3\" class=\"data row2 col3\" >-0.27</td>\n",
              "                        <td id=\"T_fb29f588_0aff_11ec_b943_0242ac1c0002row2_col4\" class=\"data row2 col4\" >-0.04</td>\n",
              "                        <td id=\"T_fb29f588_0aff_11ec_b943_0242ac1c0002row2_col5\" class=\"data row2 col5\" >0.02</td>\n",
              "                        <td id=\"T_fb29f588_0aff_11ec_b943_0242ac1c0002row2_col6\" class=\"data row2 col6\" >0.02</td>\n",
              "                        <td id=\"T_fb29f588_0aff_11ec_b943_0242ac1c0002row2_col7\" class=\"data row2 col7\" >-0.08</td>\n",
              "                        <td id=\"T_fb29f588_0aff_11ec_b943_0242ac1c0002row2_col8\" class=\"data row2 col8\" >0.32</td>\n",
              "                        <td id=\"T_fb29f588_0aff_11ec_b943_0242ac1c0002row2_col9\" class=\"data row2 col9\" >0.89</td>\n",
              "                        <td id=\"T_fb29f588_0aff_11ec_b943_0242ac1c0002row2_col10\" class=\"data row2 col10\" >-0.02</td>\n",
              "            </tr>\n",
              "            <tr>\n",
              "                        <th id=\"T_fb29f588_0aff_11ec_b943_0242ac1c0002level0_row3\" class=\"row_heading level0 row3\" >acc_z</th>\n",
              "                        <td id=\"T_fb29f588_0aff_11ec_b943_0242ac1c0002row3_col0\" class=\"data row3 col0\" >0.03</td>\n",
              "                        <td id=\"T_fb29f588_0aff_11ec_b943_0242ac1c0002row3_col1\" class=\"data row3 col1\" >-0.07</td>\n",
              "                        <td id=\"T_fb29f588_0aff_11ec_b943_0242ac1c0002row3_col2\" class=\"data row3 col2\" >-0.27</td>\n",
              "                        <td id=\"T_fb29f588_0aff_11ec_b943_0242ac1c0002row3_col3\" class=\"data row3 col3\" >1.00</td>\n",
              "                        <td id=\"T_fb29f588_0aff_11ec_b943_0242ac1c0002row3_col4\" class=\"data row3 col4\" >0.02</td>\n",
              "                        <td id=\"T_fb29f588_0aff_11ec_b943_0242ac1c0002row3_col5\" class=\"data row3 col5\" >-0.01</td>\n",
              "                        <td id=\"T_fb29f588_0aff_11ec_b943_0242ac1c0002row3_col6\" class=\"data row3 col6\" >-0.01</td>\n",
              "                        <td id=\"T_fb29f588_0aff_11ec_b943_0242ac1c0002row3_col7\" class=\"data row3 col7\" >0.13</td>\n",
              "                        <td id=\"T_fb29f588_0aff_11ec_b943_0242ac1c0002row3_col8\" class=\"data row3 col8\" >-0.19</td>\n",
              "                        <td id=\"T_fb29f588_0aff_11ec_b943_0242ac1c0002row3_col9\" class=\"data row3 col9\" >-0.39</td>\n",
              "                        <td id=\"T_fb29f588_0aff_11ec_b943_0242ac1c0002row3_col10\" class=\"data row3 col10\" >-0.10</td>\n",
              "            </tr>\n",
              "            <tr>\n",
              "                        <th id=\"T_fb29f588_0aff_11ec_b943_0242ac1c0002level0_row4\" class=\"row_heading level0 row4\" >gyr_x</th>\n",
              "                        <td id=\"T_fb29f588_0aff_11ec_b943_0242ac1c0002row4_col0\" class=\"data row4 col0\" >0.00</td>\n",
              "                        <td id=\"T_fb29f588_0aff_11ec_b943_0242ac1c0002row4_col1\" class=\"data row4 col1\" >-0.01</td>\n",
              "                        <td id=\"T_fb29f588_0aff_11ec_b943_0242ac1c0002row4_col2\" class=\"data row4 col2\" >-0.04</td>\n",
              "                        <td id=\"T_fb29f588_0aff_11ec_b943_0242ac1c0002row4_col3\" class=\"data row4 col3\" >0.02</td>\n",
              "                        <td id=\"T_fb29f588_0aff_11ec_b943_0242ac1c0002row4_col4\" class=\"data row4 col4\" >1.00</td>\n",
              "                        <td id=\"T_fb29f588_0aff_11ec_b943_0242ac1c0002row4_col5\" class=\"data row4 col5\" >0.00</td>\n",
              "                        <td id=\"T_fb29f588_0aff_11ec_b943_0242ac1c0002row4_col6\" class=\"data row4 col6\" >-0.10</td>\n",
              "                        <td id=\"T_fb29f588_0aff_11ec_b943_0242ac1c0002row4_col7\" class=\"data row4 col7\" >-0.00</td>\n",
              "                        <td id=\"T_fb29f588_0aff_11ec_b943_0242ac1c0002row4_col8\" class=\"data row4 col8\" >-0.02</td>\n",
              "                        <td id=\"T_fb29f588_0aff_11ec_b943_0242ac1c0002row4_col9\" class=\"data row4 col9\" >-0.03</td>\n",
              "                        <td id=\"T_fb29f588_0aff_11ec_b943_0242ac1c0002row4_col10\" class=\"data row4 col10\" >-0.00</td>\n",
              "            </tr>\n",
              "            <tr>\n",
              "                        <th id=\"T_fb29f588_0aff_11ec_b943_0242ac1c0002level0_row5\" class=\"row_heading level0 row5\" >gyr_y</th>\n",
              "                        <td id=\"T_fb29f588_0aff_11ec_b943_0242ac1c0002row5_col0\" class=\"data row5 col0\" >0.00</td>\n",
              "                        <td id=\"T_fb29f588_0aff_11ec_b943_0242ac1c0002row5_col1\" class=\"data row5 col1\" >0.00</td>\n",
              "                        <td id=\"T_fb29f588_0aff_11ec_b943_0242ac1c0002row5_col2\" class=\"data row5 col2\" >0.02</td>\n",
              "                        <td id=\"T_fb29f588_0aff_11ec_b943_0242ac1c0002row5_col3\" class=\"data row5 col3\" >-0.01</td>\n",
              "                        <td id=\"T_fb29f588_0aff_11ec_b943_0242ac1c0002row5_col4\" class=\"data row5 col4\" >0.00</td>\n",
              "                        <td id=\"T_fb29f588_0aff_11ec_b943_0242ac1c0002row5_col5\" class=\"data row5 col5\" >1.00</td>\n",
              "                        <td id=\"T_fb29f588_0aff_11ec_b943_0242ac1c0002row5_col6\" class=\"data row5 col6\" >0.04</td>\n",
              "                        <td id=\"T_fb29f588_0aff_11ec_b943_0242ac1c0002row5_col7\" class=\"data row5 col7\" >-0.01</td>\n",
              "                        <td id=\"T_fb29f588_0aff_11ec_b943_0242ac1c0002row5_col8\" class=\"data row5 col8\" >0.02</td>\n",
              "                        <td id=\"T_fb29f588_0aff_11ec_b943_0242ac1c0002row5_col9\" class=\"data row5 col9\" >0.01</td>\n",
              "                        <td id=\"T_fb29f588_0aff_11ec_b943_0242ac1c0002row5_col10\" class=\"data row5 col10\" >0.00</td>\n",
              "            </tr>\n",
              "            <tr>\n",
              "                        <th id=\"T_fb29f588_0aff_11ec_b943_0242ac1c0002level0_row6\" class=\"row_heading level0 row6\" >gyr_z</th>\n",
              "                        <td id=\"T_fb29f588_0aff_11ec_b943_0242ac1c0002row6_col0\" class=\"data row6 col0\" >-0.00</td>\n",
              "                        <td id=\"T_fb29f588_0aff_11ec_b943_0242ac1c0002row6_col1\" class=\"data row6 col1\" >-0.00</td>\n",
              "                        <td id=\"T_fb29f588_0aff_11ec_b943_0242ac1c0002row6_col2\" class=\"data row6 col2\" >0.02</td>\n",
              "                        <td id=\"T_fb29f588_0aff_11ec_b943_0242ac1c0002row6_col3\" class=\"data row6 col3\" >-0.01</td>\n",
              "                        <td id=\"T_fb29f588_0aff_11ec_b943_0242ac1c0002row6_col4\" class=\"data row6 col4\" >-0.10</td>\n",
              "                        <td id=\"T_fb29f588_0aff_11ec_b943_0242ac1c0002row6_col5\" class=\"data row6 col5\" >0.04</td>\n",
              "                        <td id=\"T_fb29f588_0aff_11ec_b943_0242ac1c0002row6_col6\" class=\"data row6 col6\" >1.00</td>\n",
              "                        <td id=\"T_fb29f588_0aff_11ec_b943_0242ac1c0002row6_col7\" class=\"data row6 col7\" >0.00</td>\n",
              "                        <td id=\"T_fb29f588_0aff_11ec_b943_0242ac1c0002row6_col8\" class=\"data row6 col8\" >-0.00</td>\n",
              "                        <td id=\"T_fb29f588_0aff_11ec_b943_0242ac1c0002row6_col9\" class=\"data row6 col9\" >0.02</td>\n",
              "                        <td id=\"T_fb29f588_0aff_11ec_b943_0242ac1c0002row6_col10\" class=\"data row6 col10\" >0.00</td>\n",
              "            </tr>\n",
              "            <tr>\n",
              "                        <th id=\"T_fb29f588_0aff_11ec_b943_0242ac1c0002level0_row7\" class=\"row_heading level0 row7\" >mag_x</th>\n",
              "                        <td id=\"T_fb29f588_0aff_11ec_b943_0242ac1c0002row7_col0\" class=\"data row7 col0\" >-0.02</td>\n",
              "                        <td id=\"T_fb29f588_0aff_11ec_b943_0242ac1c0002row7_col1\" class=\"data row7 col1\" >-0.41</td>\n",
              "                        <td id=\"T_fb29f588_0aff_11ec_b943_0242ac1c0002row7_col2\" class=\"data row7 col2\" >-0.08</td>\n",
              "                        <td id=\"T_fb29f588_0aff_11ec_b943_0242ac1c0002row7_col3\" class=\"data row7 col3\" >0.13</td>\n",
              "                        <td id=\"T_fb29f588_0aff_11ec_b943_0242ac1c0002row7_col4\" class=\"data row7 col4\" >-0.00</td>\n",
              "                        <td id=\"T_fb29f588_0aff_11ec_b943_0242ac1c0002row7_col5\" class=\"data row7 col5\" >-0.01</td>\n",
              "                        <td id=\"T_fb29f588_0aff_11ec_b943_0242ac1c0002row7_col6\" class=\"data row7 col6\" >0.00</td>\n",
              "                        <td id=\"T_fb29f588_0aff_11ec_b943_0242ac1c0002row7_col7\" class=\"data row7 col7\" >1.00</td>\n",
              "                        <td id=\"T_fb29f588_0aff_11ec_b943_0242ac1c0002row7_col8\" class=\"data row7 col8\" >-0.34</td>\n",
              "                        <td id=\"T_fb29f588_0aff_11ec_b943_0242ac1c0002row7_col9\" class=\"data row7 col9\" >-0.16</td>\n",
              "                        <td id=\"T_fb29f588_0aff_11ec_b943_0242ac1c0002row7_col10\" class=\"data row7 col10\" >-0.11</td>\n",
              "            </tr>\n",
              "            <tr>\n",
              "                        <th id=\"T_fb29f588_0aff_11ec_b943_0242ac1c0002level0_row8\" class=\"row_heading level0 row8\" >mag_y</th>\n",
              "                        <td id=\"T_fb29f588_0aff_11ec_b943_0242ac1c0002row8_col0\" class=\"data row8 col0\" >-0.02</td>\n",
              "                        <td id=\"T_fb29f588_0aff_11ec_b943_0242ac1c0002row8_col1\" class=\"data row8 col1\" >0.11</td>\n",
              "                        <td id=\"T_fb29f588_0aff_11ec_b943_0242ac1c0002row8_col2\" class=\"data row8 col2\" >0.32</td>\n",
              "                        <td id=\"T_fb29f588_0aff_11ec_b943_0242ac1c0002row8_col3\" class=\"data row8 col3\" >-0.19</td>\n",
              "                        <td id=\"T_fb29f588_0aff_11ec_b943_0242ac1c0002row8_col4\" class=\"data row8 col4\" >-0.02</td>\n",
              "                        <td id=\"T_fb29f588_0aff_11ec_b943_0242ac1c0002row8_col5\" class=\"data row8 col5\" >0.02</td>\n",
              "                        <td id=\"T_fb29f588_0aff_11ec_b943_0242ac1c0002row8_col6\" class=\"data row8 col6\" >-0.00</td>\n",
              "                        <td id=\"T_fb29f588_0aff_11ec_b943_0242ac1c0002row8_col7\" class=\"data row8 col7\" >-0.34</td>\n",
              "                        <td id=\"T_fb29f588_0aff_11ec_b943_0242ac1c0002row8_col8\" class=\"data row8 col8\" >1.00</td>\n",
              "                        <td id=\"T_fb29f588_0aff_11ec_b943_0242ac1c0002row8_col9\" class=\"data row8 col9\" >0.38</td>\n",
              "                        <td id=\"T_fb29f588_0aff_11ec_b943_0242ac1c0002row8_col10\" class=\"data row8 col10\" >0.09</td>\n",
              "            </tr>\n",
              "            <tr>\n",
              "                        <th id=\"T_fb29f588_0aff_11ec_b943_0242ac1c0002level0_row9\" class=\"row_heading level0 row9\" >mag_z</th>\n",
              "                        <td id=\"T_fb29f588_0aff_11ec_b943_0242ac1c0002row9_col0\" class=\"data row9 col0\" >-0.02</td>\n",
              "                        <td id=\"T_fb29f588_0aff_11ec_b943_0242ac1c0002row9_col1\" class=\"data row9 col1\" >0.14</td>\n",
              "                        <td id=\"T_fb29f588_0aff_11ec_b943_0242ac1c0002row9_col2\" class=\"data row9 col2\" >0.89</td>\n",
              "                        <td id=\"T_fb29f588_0aff_11ec_b943_0242ac1c0002row9_col3\" class=\"data row9 col3\" >-0.39</td>\n",
              "                        <td id=\"T_fb29f588_0aff_11ec_b943_0242ac1c0002row9_col4\" class=\"data row9 col4\" >-0.03</td>\n",
              "                        <td id=\"T_fb29f588_0aff_11ec_b943_0242ac1c0002row9_col5\" class=\"data row9 col5\" >0.01</td>\n",
              "                        <td id=\"T_fb29f588_0aff_11ec_b943_0242ac1c0002row9_col6\" class=\"data row9 col6\" >0.02</td>\n",
              "                        <td id=\"T_fb29f588_0aff_11ec_b943_0242ac1c0002row9_col7\" class=\"data row9 col7\" >-0.16</td>\n",
              "                        <td id=\"T_fb29f588_0aff_11ec_b943_0242ac1c0002row9_col8\" class=\"data row9 col8\" >0.38</td>\n",
              "                        <td id=\"T_fb29f588_0aff_11ec_b943_0242ac1c0002row9_col9\" class=\"data row9 col9\" >1.00</td>\n",
              "                        <td id=\"T_fb29f588_0aff_11ec_b943_0242ac1c0002row9_col10\" class=\"data row9 col10\" >0.03</td>\n",
              "            </tr>\n",
              "            <tr>\n",
              "                        <th id=\"T_fb29f588_0aff_11ec_b943_0242ac1c0002level0_row10\" class=\"row_heading level0 row10\" >label</th>\n",
              "                        <td id=\"T_fb29f588_0aff_11ec_b943_0242ac1c0002row10_col0\" class=\"data row10 col0\" >0.03</td>\n",
              "                        <td id=\"T_fb29f588_0aff_11ec_b943_0242ac1c0002row10_col1\" class=\"data row10 col1\" >0.15</td>\n",
              "                        <td id=\"T_fb29f588_0aff_11ec_b943_0242ac1c0002row10_col2\" class=\"data row10 col2\" >-0.02</td>\n",
              "                        <td id=\"T_fb29f588_0aff_11ec_b943_0242ac1c0002row10_col3\" class=\"data row10 col3\" >-0.10</td>\n",
              "                        <td id=\"T_fb29f588_0aff_11ec_b943_0242ac1c0002row10_col4\" class=\"data row10 col4\" >-0.00</td>\n",
              "                        <td id=\"T_fb29f588_0aff_11ec_b943_0242ac1c0002row10_col5\" class=\"data row10 col5\" >0.00</td>\n",
              "                        <td id=\"T_fb29f588_0aff_11ec_b943_0242ac1c0002row10_col6\" class=\"data row10 col6\" >0.00</td>\n",
              "                        <td id=\"T_fb29f588_0aff_11ec_b943_0242ac1c0002row10_col7\" class=\"data row10 col7\" >-0.11</td>\n",
              "                        <td id=\"T_fb29f588_0aff_11ec_b943_0242ac1c0002row10_col8\" class=\"data row10 col8\" >0.09</td>\n",
              "                        <td id=\"T_fb29f588_0aff_11ec_b943_0242ac1c0002row10_col9\" class=\"data row10 col9\" >0.03</td>\n",
              "                        <td id=\"T_fb29f588_0aff_11ec_b943_0242ac1c0002row10_col10\" class=\"data row10 col10\" >1.00</td>\n",
              "            </tr>\n",
              "    </tbody></table>"
            ],
            "text/plain": [
              "<pandas.io.formats.style.Styler at 0x7f6dd21fff90>"
            ]
          },
          "metadata": {},
          "execution_count": 7
        }
      ]
    },
    {
      "cell_type": "code",
      "metadata": {
        "id": "ScQK9uelIeTX"
      },
      "source": [
        "y = df['label']\n",
        "x = df.drop(['label', 'time'], axis=1)"
      ],
      "execution_count": 8,
      "outputs": []
    },
    {
      "cell_type": "markdown",
      "metadata": {
        "id": "ob3PbSEMO55S"
      },
      "source": [
        "Scale the data to 0 mean and unit variance"
      ]
    },
    {
      "cell_type": "code",
      "metadata": {
        "colab": {
          "base_uri": "https://localhost:8080/"
        },
        "id": "856AAc_KbM2k",
        "outputId": "9849c487-3726-4df2-ab05-3137f26f0677"
      },
      "source": [
        "from imblearn.over_sampling import RandomOverSampler\n",
        "\n",
        "sampler = RandomOverSampler(\"auto\")\n",
        "x, y = sampler.fit_sample(x, y)"
      ],
      "execution_count": 9,
      "outputs": [
        {
          "output_type": "stream",
          "name": "stderr",
          "text": [
            "/usr/local/lib/python3.7/dist-packages/sklearn/externals/six.py:31: FutureWarning: The module is deprecated in version 0.21 and will be removed in version 0.23 since we've dropped support for Python 2.7. Please rely on the official version of six (https://pypi.org/project/six/).\n",
            "  \"(https://pypi.org/project/six/).\", FutureWarning)\n",
            "/usr/local/lib/python3.7/dist-packages/sklearn/utils/deprecation.py:144: FutureWarning: The sklearn.neighbors.base module is  deprecated in version 0.22 and will be removed in version 0.24. The corresponding classes / functions should instead be imported from sklearn.neighbors. Anything that cannot be imported from sklearn.neighbors is now part of the private API.\n",
            "  warnings.warn(message, FutureWarning)\n",
            "/usr/local/lib/python3.7/dist-packages/sklearn/utils/deprecation.py:87: FutureWarning: Function safe_indexing is deprecated; safe_indexing is deprecated in version 0.22 and will be removed in version 0.24.\n",
            "  warnings.warn(msg, category=FutureWarning)\n"
          ]
        }
      ]
    },
    {
      "cell_type": "code",
      "metadata": {
        "id": "aVmK5iNeI04q"
      },
      "source": [
        "from sklearn.preprocessing import StandardScaler"
      ],
      "execution_count": 10,
      "outputs": []
    },
    {
      "cell_type": "code",
      "metadata": {
        "id": "X7dGrSjYJWVB"
      },
      "source": [
        "scaler = StandardScaler()\n",
        "x_scaled = scaler.fit_transform(x)"
      ],
      "execution_count": 11,
      "outputs": []
    },
    {
      "cell_type": "code",
      "metadata": {
        "id": "v87arUORMmAH"
      },
      "source": [
        "# The labels are from 1 to 9, scale them to 0 - 8\n",
        "y_scaled = y - 1"
      ],
      "execution_count": 12,
      "outputs": []
    },
    {
      "cell_type": "code",
      "metadata": {
        "id": "DMQDMsSkL7X2"
      },
      "source": [
        "import tensorflow as tf\n",
        "import keras.layers as layers\n",
        "import keras.models as models\n",
        "import keras.optimizers as optim"
      ],
      "execution_count": 13,
      "outputs": []
    },
    {
      "cell_type": "markdown",
      "metadata": {
        "id": "jRjFrhfePChc"
      },
      "source": [
        "Create a simple DNN Classifier"
      ]
    },
    {
      "cell_type": "code",
      "metadata": {
        "id": "_MZyxxWDMKcq"
      },
      "source": [
        "class DNN(models.Model):\n",
        "    def __init__(self):\n",
        "        super(DNN, self).__init__()\n",
        "\n",
        "        self.seq = models.Sequential([\n",
        "                                      layers.Dense(12, activation='tanh'),\n",
        "                                      layers.Dense(32, activation='tanh'),\n",
        "                                      layers.Dropout(0.3),\n",
        "        ])\n",
        "        self.output_layer= models.Sequential([\n",
        "                                      layers.Dense(64, activation='tanh'),\n",
        "                                      layers.Dense(9, activation='softmax')\n",
        "        ])\n",
        "    \n",
        "    def call(self, inp):\n",
        "        x = self.seq(inp)\n",
        "        x = tf.concat([x, inp], axis=1)\n",
        "        x = self.output_layer(x)\n",
        "        return x"
      ],
      "execution_count": 14,
      "outputs": []
    },
    {
      "cell_type": "code",
      "metadata": {
        "id": "KTYcP4ZLdHy9"
      },
      "source": [
        "dnn = DNN()"
      ],
      "execution_count": 15,
      "outputs": []
    },
    {
      "cell_type": "code",
      "metadata": {
        "id": "Wdfbsc79Mhrj"
      },
      "source": [
        "dnn.compile(optimizer='adam', loss=\"sparse_categorical_crossentropy\", metrics=['acc'])"
      ],
      "execution_count": 16,
      "outputs": []
    },
    {
      "cell_type": "code",
      "metadata": {
        "colab": {
          "base_uri": "https://localhost:8080/"
        },
        "id": "4idW5pe7MqTK",
        "outputId": "7b534f0b-e62f-4b44-a9ac-c80a14ef3e7d"
      },
      "source": [
        "history = dnn.fit(x_scaled, y_scaled, batch_size=128)"
      ],
      "execution_count": 18,
      "outputs": [
        {
          "output_type": "stream",
          "name": "stdout",
          "text": [
            "253257/253257 [==============================] - 444s 2ms/step - loss: 0.7084 - acc: 0.7469\n"
          ]
        }
      ]
    },
    {
      "cell_type": "code",
      "metadata": {
        "id": "buLbtztjNoCG"
      },
      "source": [
        ""
      ],
      "execution_count": null,
      "outputs": []
    }
  ]
}